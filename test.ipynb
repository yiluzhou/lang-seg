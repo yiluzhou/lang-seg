{
 "cells": [
  {
   "cell_type": "code",
   "execution_count": 1,
   "metadata": {},
   "outputs": [],
   "source": [
    "# streamlit run lseg_app.py -- --weights=\"/mnt/g/Datasets/ADEChallengeData2016/demo_e200.ckpt\" --data-path=\"/mnt/g/Datasets/ADEChallengeData2016/\"\n",
    "\n",
    "\n",
    "# /home/yilu/miniconda3/envs/langseg/lib/python3.11/site-packages/encoding/nn/__init__.py\n",
    "\n",
    "# https://github.com/zhanghang1989/PyTorch-Encoding/compare/master...johndavidbustard:PyTorch-Encoding:master\n",
    "# tried:\n",
    "# https://github.com/krrish94/PyTorch-Encoding/archive/refs/heads/master.zip\n",
    "# \n",
    "# https://github.com/Zacchaeus00/PyTorch-Encoding/archive/refs/heads/master.zip\n",
    "from encoding import gpu\n",
    "\n",
    "\n"
   ]
  },
  {
   "cell_type": "code",
   "execution_count": 1,
   "metadata": {},
   "outputs": [
    {
     "name": "stdout",
     "output_type": "stream",
     "text": [
      "Python 3.11.4\n"
     ]
    }
   ],
   "source": [
    "# !python --version\n",
    "import torchmetrics\n",
    "metric = torchmetrics.Accuracy()\n",
    "acc = metric(preds,y)\n"
   ]
  }
 ],
 "metadata": {
  "kernelspec": {
   "display_name": "langseg",
   "language": "python",
   "name": "python3"
  },
  "language_info": {
   "codemirror_mode": {
    "name": "ipython",
    "version": 3
   },
   "file_extension": ".py",
   "mimetype": "text/x-python",
   "name": "python",
   "nbconvert_exporter": "python",
   "pygments_lexer": "ipython3",
   "version": "3.11.4"
  },
  "orig_nbformat": 4
 },
 "nbformat": 4,
 "nbformat_minor": 2
}
